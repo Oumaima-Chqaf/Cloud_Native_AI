{
 "cells": [
  {
   "cell_type": "code",
   "execution_count": 0,
   "metadata": {
    "application/vnd.databricks.v1+cell": {
     "cellMetadata": {
      "byteLimit": 2048000,
      "rowLimit": 10000
     },
     "inputWidgets": {},
     "nuid": "7e601e02-6ad4-4939-a25c-d5cf337bbdd2",
     "showTitle": false,
     "title": ""
    }
   },
   "outputs": [
    {
     "output_type": "stream",
     "name": "stdout",
     "output_type": "stream",
     "text": [
      "Python interpreter will be restarted.\nCollecting spark\n  Using cached spark-0.2.1-py3-none-any.whl\nInstalling collected packages: spark\nSuccessfully installed spark-0.2.1\nPython interpreter will be restarted.\n"
     ]
    }
   ],
   "source": [
    "pip install spark "
   ]
  },
  {
   "cell_type": "code",
   "execution_count": 0,
   "metadata": {
    "application/vnd.databricks.v1+cell": {
     "cellMetadata": {
      "byteLimit": 2048000,
      "rowLimit": 10000
     },
     "inputWidgets": {},
     "nuid": "84bc428f-76af-43b0-ba5b-b9be37959a3b",
     "showTitle": false,
     "title": ""
    }
   },
   "outputs": [
    {
     "output_type": "stream",
     "name": "stdout",
     "output_type": "stream",
     "text": [
      "Collecting mlflow==1.20.2\r\n  Using cached mlflow-1.20.2-py3-none-any.whl (14.6 MB)\r\nCollecting prometheus-flask-exporter\r\n  Using cached prometheus_flask_exporter-0.23.0-py3-none-any.whl (18 kB)\r\nRequirement already satisfied: protobuf>=3.7.0 in /databricks/python3/lib/python3.9/site-packages (from mlflow==1.20.2) (3.19.4)\r\nCollecting cloudpickle\r\n  Using cached cloudpickle-3.0.0-py3-none-any.whl (20 kB)\r\nRequirement already satisfied: packaging in /databricks/python3/lib/python3.9/site-packages (from mlflow==1.20.2) (21.3)\r\nCollecting alembic<=1.4.1\r\n  Using cached alembic-1.4.1-py2.py3-none-any.whl\r\nCollecting sqlparse>=0.3.1\r\n  Using cached sqlparse-0.4.4-py3-none-any.whl (41 kB)\r\nRequirement already satisfied: entrypoints in /databricks/python3/lib/python3.9/site-packages (from mlflow==1.20.2) (0.4)\r\nCollecting querystring-parser\r\n  Using cached querystring_parser-1.2.4-py2.py3-none-any.whl (7.9 kB)\r\nRequirement already satisfied: click>=7.0 in /databricks/python3/lib/python3.9/site-packages (from mlflow==1.20.2) (8.0.4)\r\nRequirement already satisfied: pytz in /databricks/python3/lib/python3.9/site-packages (from mlflow==1.20.2) (2021.3)\r\nCollecting Flask\r\n  Using cached flask-3.0.0-py3-none-any.whl (99 kB)\r\nRequirement already satisfied: pandas in /databricks/python3/lib/python3.9/site-packages (from mlflow==1.20.2) (1.4.2)\r\nCollecting sqlalchemy\r\n  Using cached SQLAlchemy-2.0.25-cp39-cp39-manylinux_2_17_x86_64.manylinux2014_x86_64.whl (3.1 MB)\r\nCollecting gunicorn\r\n  Using cached gunicorn-21.2.0-py3-none-any.whl (80 kB)\r\nCollecting importlib-metadata!=4.7.0,>=3.7.0\r\n  Using cached importlib_metadata-7.0.1-py3-none-any.whl (23 kB)\r\nRequirement already satisfied: numpy in /databricks/python3/lib/python3.9/site-packages (from mlflow==1.20.2) (1.21.5)\r\nCollecting pyyaml>=5.1\r\n  Using cached PyYAML-6.0.1-cp39-cp39-manylinux_2_17_x86_64.manylinux2014_x86_64.whl (738 kB)\r\nCollecting gitpython>=2.1.0\r\n  Using cached GitPython-3.1.40-py3-none-any.whl (190 kB)\r\nRequirement already satisfied: requests>=2.17.3 in /databricks/python3/lib/python3.9/site-packages (from mlflow==1.20.2) (2.27.1)\r\nCollecting databricks-cli>=0.8.7\r\n  Using cached databricks_cli-0.18.0-py2.py3-none-any.whl (150 kB)\r\nCollecting docker>=4.0.0\r\n  Using cached docker-7.0.0-py3-none-any.whl (147 kB)\r\nCollecting Mako\r\n  Using cached Mako-1.3.0-py3-none-any.whl (78 kB)\r\nCollecting python-editor>=0.3\r\n  Using cached python_editor-1.0.4-py3-none-any.whl (4.9 kB)\r\nRequirement already satisfied: python-dateutil in /databricks/python3/lib/python3.9/site-packages (from alembic<=1.4.1->mlflow==1.20.2) (2.8.2)\r\nRequirement already satisfied: urllib3<3,>=1.26.7 in /databricks/python3/lib/python3.9/site-packages (from databricks-cli>=0.8.7->mlflow==1.20.2) (1.26.9)\r\nCollecting tabulate>=0.7.7\r\n  Using cached tabulate-0.9.0-py3-none-any.whl (35 kB)\r\nRequirement already satisfied: six>=1.10.0 in /databricks/python3/lib/python3.9/site-packages (from databricks-cli>=0.8.7->mlflow==1.20.2) (1.16.0)\r\nCollecting oauthlib>=3.1.0\r\n  Using cached oauthlib-3.2.2-py3-none-any.whl (151 kB)\r\nCollecting pyjwt>=1.7.0\r\n  Using cached PyJWT-2.8.0-py3-none-any.whl (22 kB)\r\nCollecting gitdb<5,>=4.0.1\r\n  Using cached gitdb-4.0.11-py3-none-any.whl (62 kB)\r\nCollecting smmap<6,>=3.0.1\r\n  Using cached smmap-5.0.1-py3-none-any.whl (24 kB)\r\nCollecting zipp>=0.5\r\n  Using cached zipp-3.17.0-py3-none-any.whl (7.4 kB)\r\nRequirement already satisfied: pyparsing!=3.0.5,>=2.0.2 in /databricks/python3/lib/python3.9/site-packages (from packaging->mlflow==1.20.2) (3.0.4)\r\nRequirement already satisfied: idna<4,>=2.5 in /databricks/python3/lib/python3.9/site-packages (from requests>=2.17.3->mlflow==1.20.2) (3.3)\r\nRequirement already satisfied: charset-normalizer~=2.0.0 in /databricks/python3/lib/python3.9/site-packages (from requests>=2.17.3->mlflow==1.20.2) (2.0.4)\r\nRequirement already satisfied: certifi>=2017.4.17 in /databricks/python3/lib/python3.9/site-packages (from requests>=2.17.3->mlflow==1.20.2) (2021.10.8)\r\nCollecting greenlet!=0.4.17\r\n  Using cached greenlet-3.0.3-cp39-cp39-manylinux_2_24_x86_64.manylinux_2_28_x86_64.whl (614 kB)\r\nCollecting typing-extensions>=4.6.0\r\n  Using cached typing_extensions-4.9.0-py3-none-any.whl (32 kB)\r\nCollecting Werkzeug>=3.0.0\r\n  Using cached werkzeug-3.0.1-py3-none-any.whl (226 kB)\r\nCollecting click>=7.0\r\n  Using cached click-8.1.7-py3-none-any.whl (97 kB)\r\nCollecting blinker>=1.6.2\r\n  Using cached blinker-1.7.0-py3-none-any.whl (13 kB)\r\nCollecting Jinja2>=3.1.2\r\n  Using cached Jinja2-3.1.2-py3-none-any.whl (133 kB)\r\nCollecting itsdangerous>=2.1.2\r\n  Using cached itsdangerous-2.1.2-py3-none-any.whl (15 kB)\r\nRequirement already satisfied: MarkupSafe>=2.0 in /databricks/python3/lib/python3.9/site-packages (from Jinja2>=3.1.2->Flask->mlflow==1.20.2) (2.0.1)\r\nCollecting MarkupSafe>=2.0\r\n  Using cached MarkupSafe-2.1.3-cp39-cp39-manylinux_2_17_x86_64.manylinux2014_x86_64.whl (25 kB)\r\nRequirement already satisfied: prometheus-client in /databricks/python3/lib/python3.9/site-packages (from prometheus-flask-exporter->mlflow==1.20.2) (0.13.1)\r\nInstalling collected packages: zipp, MarkupSafe, Werkzeug, typing-extensions, smmap, Jinja2, itsdangerous, importlib-metadata, greenlet, click, blinker, tabulate, sqlalchemy, python-editor, pyjwt, oauthlib, Mako, gitdb, Flask, sqlparse, querystring-parser, pyyaml, prometheus-flask-exporter, gunicorn, gitpython, docker, databricks-cli, cloudpickle, alembic, mlflow\r\n  Attempting uninstall: MarkupSafe\r\n    Found existing installation: MarkupSafe 2.0.1\r\n    Not uninstalling markupsafe at /databricks/python3/lib/python3.9/site-packages, outside environment /local_disk0/.ephemeral_nfs/envs/pythonEnv-c2692f25-46d1-4534-8a77-e717640e35e2\r\n    Can't uninstall 'MarkupSafe'. No files were found to uninstall.\r\n  Attempting uninstall: typing-extensions\r\n    Found existing installation: typing-extensions 4.1.1\r\n    Not uninstalling typing-extensions at /databricks/python3/lib/python3.9/site-packages, outside environment /local_disk0/.ephemeral_nfs/envs/pythonEnv-c2692f25-46d1-4534-8a77-e717640e35e2\r\n    Can't uninstall 'typing-extensions'. No files were found to uninstall.\r\n  Attempting uninstall: Jinja2\r\n    Found existing installation: Jinja2 2.11.3\r\n    Not uninstalling jinja2 at /databricks/python3/lib/python3.9/site-packages, outside environment /local_disk0/.ephemeral_nfs/envs/pythonEnv-c2692f25-46d1-4534-8a77-e717640e35e2\r\n    Can't uninstall 'Jinja2'. No files were found to uninstall.\r\n  Attempting uninstall: click\r\n    Found existing installation: click 8.0.4\r\n    Not uninstalling click at /databricks/python3/lib/python3.9/site-packages, outside environment /local_disk0/.ephemeral_nfs/envs/pythonEnv-c2692f25-46d1-4534-8a77-e717640e35e2\r\n    Can't uninstall 'click'. No files were found to uninstall.\r\nSuccessfully installed Flask-3.0.0 Jinja2-3.1.2 Mako-1.3.0 MarkupSafe-2.1.3 Werkzeug-3.0.1 alembic-1.4.1 blinker-1.7.0 click-8.1.7 cloudpickle-3.0.0 databricks-cli-0.18.0 docker-7.0.0 gitdb-4.0.11 gitpython-3.1.40 greenlet-3.0.3 gunicorn-21.2.0 importlib-metadata-7.0.1 itsdangerous-2.1.2 mlflow-1.20.2 oauthlib-3.2.2 prometheus-flask-exporter-0.23.0 pyjwt-2.8.0 python-editor-1.0.4 pyyaml-6.0.1 querystring-parser-1.2.4 smmap-5.0.1 sqlalchemy-2.0.25 sqlparse-0.4.4 tabulate-0.9.0 typing-extensions-4.9.0 zipp-3.17.0\r\n\u001B[33mWARNING: You are using pip version 21.2.4; however, version 23.3.2 is available.\r\nYou should consider upgrading via the '/local_disk0/.ephemeral_nfs/envs/pythonEnv-c2692f25-46d1-4534-8a77-e717640e35e2/bin/python -m pip install --upgrade pip' command.\u001B[0m\r\n"
     ]
    }
   ],
   "source": [
    "import numpy as np\n",
    "import pandas as pd\n",
    "import matplotlib #\n",
    "import matplotlib.pyplot as plt\n",
    "import seaborn as sns\n",
    "import sklearn #\n",
    "import spark\n",
    "from sklearn.linear_model import LogisticRegression\n",
    "from sklearn.model_selection import train_test_split\n",
    "from sklearn.preprocessing import StandardScaler\n",
    "from sklearn.metrics import roc_auc_score, plot_roc_curve,confusion_matrix\n",
    "from sklearn.model_selection import KFold\n",
    "!pip install mlflow==1.20.2\n",
    "import mlflow"
   ]
  },
  {
   "cell_type": "code",
   "execution_count": 0,
   "metadata": {
    "application/vnd.databricks.v1+cell": {
     "cellMetadata": {
      "byteLimit": 2048000,
      "rowLimit": 10000
     },
     "inputWidgets": {},
     "nuid": "f91905a6-9af4-4cbd-bb6b-513e93b56016",
     "showTitle": false,
     "title": ""
    }
   },
   "outputs": [
    {
     "output_type": "display_data",
     "data": {
      "text/plain": [
       ""
      ]
     },
     "metadata": {
      "application/vnd.databricks.v1+output": {
       "arguments": {},
       "data": "",
       "errorSummary": "Command skipped",
       "errorTraceType": "ansi",
       "metadata": {},
       "type": "ipynbError"
      }
     },
     "output_type": "display_data"
    }
   ],
   "source": [
    "!pip install mlflow==1.20.2"
   ]
  },
  {
   "cell_type": "code",
   "execution_count": 0,
   "metadata": {
    "application/vnd.databricks.v1+cell": {
     "cellMetadata": {
      "byteLimit": 2048000,
      "rowLimit": 10000
     },
     "inputWidgets": {},
     "nuid": "25c72c55-ece3-4ab2-adb9-65636c4c7d55",
     "showTitle": false,
     "title": ""
    }
   },
   "outputs": [],
   "source": [
    "from pyspark.sql import SparkSession\n",
    "\n",
    "# Create a Spark session\n",
    "spark = SparkSession.builder.appName(\"mlflow\").getOrCreate()\n",
    "\n",
    "# File location and type\n",
    "file_location = \"/FileStore/tables/creditcard.csv\"\n",
    "file_type = \"csv\"\n",
    "\n",
    "# CSV options\n",
    "infer_schema = \"true\"\n",
    "first_row_is_header = \"true\"\n",
    "delimiter = \",\"\n",
    "\n",
    "# The applied options are for CSV files. For other file types, these will be ignored.\n",
    "dataframe = spark.read.format(file_type) \\\n",
    "  .option(\"inferSchema\", infer_schema) \\\n",
    "  .option(\"header\", first_row_is_header) \\\n",
    "  .option(\"sep\", delimiter) \\\n",
    "  .load(file_location)\n",
    "\n",
    "# Convert Spark DataFrame to Pandas DataFrame\n",
    "df = dataframe.toPandas()"
   ]
  },
  {
   "cell_type": "code",
   "execution_count": 0,
   "metadata": {
    "application/vnd.databricks.v1+cell": {
     "cellMetadata": {
      "byteLimit": 2048000,
      "rowLimit": 10000
     },
     "inputWidgets": {},
     "nuid": "bc637a22-410d-4100-8348-3b5369817534",
     "showTitle": false,
     "title": ""
    }
   },
   "outputs": [
    {
     "output_type": "display_data",
     "data": {
      "text/html": [
       "<div>\n",
       "<style scoped>\n",
       "    .dataframe tbody tr th:only-of-type {\n",
       "        vertical-align: middle;\n",
       "    }\n",
       "\n",
       "    .dataframe tbody tr th {\n",
       "        vertical-align: top;\n",
       "    }\n",
       "\n",
       "    .dataframe thead th {\n",
       "        text-align: right;\n",
       "    }\n",
       "</style>\n",
       "<table border=\"1\" class=\"dataframe\">\n",
       "  <thead>\n",
       "    <tr style=\"text-align: right;\">\n",
       "      <th></th>\n",
       "      <th>V1</th>\n",
       "      <th>V2</th>\n",
       "      <th>V3</th>\n",
       "      <th>V4</th>\n",
       "      <th>V5</th>\n",
       "      <th>V6</th>\n",
       "      <th>V7</th>\n",
       "      <th>V8</th>\n",
       "      <th>V9</th>\n",
       "      <th>V10</th>\n",
       "      <th>...</th>\n",
       "      <th>V21</th>\n",
       "      <th>V22</th>\n",
       "      <th>V23</th>\n",
       "      <th>V24</th>\n",
       "      <th>V25</th>\n",
       "      <th>V26</th>\n",
       "      <th>V27</th>\n",
       "      <th>V28</th>\n",
       "      <th>Amount</th>\n",
       "      <th>Class</th>\n",
       "    </tr>\n",
       "  </thead>\n",
       "  <tbody>\n",
       "    <tr>\n",
       "      <th>0</th>\n",
       "      <td>-1.359807</td>\n",
       "      <td>-0.072781</td>\n",
       "      <td>2.536347</td>\n",
       "      <td>1.378155</td>\n",
       "      <td>-0.338321</td>\n",
       "      <td>0.462388</td>\n",
       "      <td>0.239599</td>\n",
       "      <td>0.098698</td>\n",
       "      <td>0.363787</td>\n",
       "      <td>0.090794</td>\n",
       "      <td>...</td>\n",
       "      <td>-0.018307</td>\n",
       "      <td>0.277838</td>\n",
       "      <td>-0.110474</td>\n",
       "      <td>0.066928</td>\n",
       "      <td>0.128539</td>\n",
       "      <td>-0.189115</td>\n",
       "      <td>0.133558</td>\n",
       "      <td>-0.021053</td>\n",
       "      <td>149.62</td>\n",
       "      <td>0</td>\n",
       "    </tr>\n",
       "    <tr>\n",
       "      <th>1</th>\n",
       "      <td>1.191857</td>\n",
       "      <td>0.266151</td>\n",
       "      <td>0.166480</td>\n",
       "      <td>0.448154</td>\n",
       "      <td>0.060018</td>\n",
       "      <td>-0.082361</td>\n",
       "      <td>-0.078803</td>\n",
       "      <td>0.085102</td>\n",
       "      <td>-0.255425</td>\n",
       "      <td>-0.166974</td>\n",
       "      <td>...</td>\n",
       "      <td>-0.225775</td>\n",
       "      <td>-0.638672</td>\n",
       "      <td>0.101288</td>\n",
       "      <td>-0.339846</td>\n",
       "      <td>0.167170</td>\n",
       "      <td>0.125895</td>\n",
       "      <td>-0.008983</td>\n",
       "      <td>0.014724</td>\n",
       "      <td>2.69</td>\n",
       "      <td>0</td>\n",
       "    </tr>\n",
       "    <tr>\n",
       "      <th>2</th>\n",
       "      <td>-1.358354</td>\n",
       "      <td>-1.340163</td>\n",
       "      <td>1.773209</td>\n",
       "      <td>0.379780</td>\n",
       "      <td>-0.503198</td>\n",
       "      <td>1.800499</td>\n",
       "      <td>0.791461</td>\n",
       "      <td>0.247676</td>\n",
       "      <td>-1.514654</td>\n",
       "      <td>0.207643</td>\n",
       "      <td>...</td>\n",
       "      <td>0.247998</td>\n",
       "      <td>0.771679</td>\n",
       "      <td>0.909412</td>\n",
       "      <td>-0.689281</td>\n",
       "      <td>-0.327642</td>\n",
       "      <td>-0.139097</td>\n",
       "      <td>-0.055353</td>\n",
       "      <td>-0.059752</td>\n",
       "      <td>378.66</td>\n",
       "      <td>0</td>\n",
       "    </tr>\n",
       "    <tr>\n",
       "      <th>3</th>\n",
       "      <td>-0.966272</td>\n",
       "      <td>-0.185226</td>\n",
       "      <td>1.792993</td>\n",
       "      <td>-0.863291</td>\n",
       "      <td>-0.010309</td>\n",
       "      <td>1.247203</td>\n",
       "      <td>0.237609</td>\n",
       "      <td>0.377436</td>\n",
       "      <td>-1.387024</td>\n",
       "      <td>-0.054952</td>\n",
       "      <td>...</td>\n",
       "      <td>-0.108300</td>\n",
       "      <td>0.005274</td>\n",
       "      <td>-0.190321</td>\n",
       "      <td>-1.175575</td>\n",
       "      <td>0.647376</td>\n",
       "      <td>-0.221929</td>\n",
       "      <td>0.062723</td>\n",
       "      <td>0.061458</td>\n",
       "      <td>123.50</td>\n",
       "      <td>0</td>\n",
       "    </tr>\n",
       "    <tr>\n",
       "      <th>4</th>\n",
       "      <td>-1.158233</td>\n",
       "      <td>0.877737</td>\n",
       "      <td>1.548718</td>\n",
       "      <td>0.403034</td>\n",
       "      <td>-0.407193</td>\n",
       "      <td>0.095921</td>\n",
       "      <td>0.592941</td>\n",
       "      <td>-0.270533</td>\n",
       "      <td>0.817739</td>\n",
       "      <td>0.753074</td>\n",
       "      <td>...</td>\n",
       "      <td>-0.009431</td>\n",
       "      <td>0.798278</td>\n",
       "      <td>-0.137458</td>\n",
       "      <td>0.141267</td>\n",
       "      <td>-0.206010</td>\n",
       "      <td>0.502292</td>\n",
       "      <td>0.219422</td>\n",
       "      <td>0.215153</td>\n",
       "      <td>69.99</td>\n",
       "      <td>0</td>\n",
       "    </tr>\n",
       "  </tbody>\n",
       "</table>\n",
       "<p>5 rows × 30 columns</p>\n",
       "</div>"
      ]
     },
     "metadata": {
      "application/vnd.databricks.v1+output": {
       "addedWidgets": {},
       "arguments": {},
       "data": "<div>\n<style scoped>\n    .dataframe tbody tr th:only-of-type {\n        vertical-align: middle;\n    }\n\n    .dataframe tbody tr th {\n        vertical-align: top;\n    }\n\n    .dataframe thead th {\n        text-align: right;\n    }\n</style>\n<table border=\"1\" class=\"dataframe\">\n  <thead>\n    <tr style=\"text-align: right;\">\n      <th></th>\n      <th>V1</th>\n      <th>V2</th>\n      <th>V3</th>\n      <th>V4</th>\n      <th>V5</th>\n      <th>V6</th>\n      <th>V7</th>\n      <th>V8</th>\n      <th>V9</th>\n      <th>V10</th>\n      <th>...</th>\n      <th>V21</th>\n      <th>V22</th>\n      <th>V23</th>\n      <th>V24</th>\n      <th>V25</th>\n      <th>V26</th>\n      <th>V27</th>\n      <th>V28</th>\n      <th>Amount</th>\n      <th>Class</th>\n    </tr>\n  </thead>\n  <tbody>\n    <tr>\n      <th>0</th>\n      <td>-1.359807</td>\n      <td>-0.072781</td>\n      <td>2.536347</td>\n      <td>1.378155</td>\n      <td>-0.338321</td>\n      <td>0.462388</td>\n      <td>0.239599</td>\n      <td>0.098698</td>\n      <td>0.363787</td>\n      <td>0.090794</td>\n      <td>...</td>\n      <td>-0.018307</td>\n      <td>0.277838</td>\n      <td>-0.110474</td>\n      <td>0.066928</td>\n      <td>0.128539</td>\n      <td>-0.189115</td>\n      <td>0.133558</td>\n      <td>-0.021053</td>\n      <td>149.62</td>\n      <td>0</td>\n    </tr>\n    <tr>\n      <th>1</th>\n      <td>1.191857</td>\n      <td>0.266151</td>\n      <td>0.166480</td>\n      <td>0.448154</td>\n      <td>0.060018</td>\n      <td>-0.082361</td>\n      <td>-0.078803</td>\n      <td>0.085102</td>\n      <td>-0.255425</td>\n      <td>-0.166974</td>\n      <td>...</td>\n      <td>-0.225775</td>\n      <td>-0.638672</td>\n      <td>0.101288</td>\n      <td>-0.339846</td>\n      <td>0.167170</td>\n      <td>0.125895</td>\n      <td>-0.008983</td>\n      <td>0.014724</td>\n      <td>2.69</td>\n      <td>0</td>\n    </tr>\n    <tr>\n      <th>2</th>\n      <td>-1.358354</td>\n      <td>-1.340163</td>\n      <td>1.773209</td>\n      <td>0.379780</td>\n      <td>-0.503198</td>\n      <td>1.800499</td>\n      <td>0.791461</td>\n      <td>0.247676</td>\n      <td>-1.514654</td>\n      <td>0.207643</td>\n      <td>...</td>\n      <td>0.247998</td>\n      <td>0.771679</td>\n      <td>0.909412</td>\n      <td>-0.689281</td>\n      <td>-0.327642</td>\n      <td>-0.139097</td>\n      <td>-0.055353</td>\n      <td>-0.059752</td>\n      <td>378.66</td>\n      <td>0</td>\n    </tr>\n    <tr>\n      <th>3</th>\n      <td>-0.966272</td>\n      <td>-0.185226</td>\n      <td>1.792993</td>\n      <td>-0.863291</td>\n      <td>-0.010309</td>\n      <td>1.247203</td>\n      <td>0.237609</td>\n      <td>0.377436</td>\n      <td>-1.387024</td>\n      <td>-0.054952</td>\n      <td>...</td>\n      <td>-0.108300</td>\n      <td>0.005274</td>\n      <td>-0.190321</td>\n      <td>-1.175575</td>\n      <td>0.647376</td>\n      <td>-0.221929</td>\n      <td>0.062723</td>\n      <td>0.061458</td>\n      <td>123.50</td>\n      <td>0</td>\n    </tr>\n    <tr>\n      <th>4</th>\n      <td>-1.158233</td>\n      <td>0.877737</td>\n      <td>1.548718</td>\n      <td>0.403034</td>\n      <td>-0.407193</td>\n      <td>0.095921</td>\n      <td>0.592941</td>\n      <td>-0.270533</td>\n      <td>0.817739</td>\n      <td>0.753074</td>\n      <td>...</td>\n      <td>-0.009431</td>\n      <td>0.798278</td>\n      <td>-0.137458</td>\n      <td>0.141267</td>\n      <td>-0.206010</td>\n      <td>0.502292</td>\n      <td>0.219422</td>\n      <td>0.215153</td>\n      <td>69.99</td>\n      <td>0</td>\n    </tr>\n  </tbody>\n</table>\n<p>5 rows × 30 columns</p>\n</div>",
       "datasetInfos": [],
       "metadata": {},
       "removedWidgets": [],
       "textData": null,
       "type": "htmlSandbox"
      }
     },
     "output_type": "display_data"
    }
   ],
   "source": [
    "df = df.drop(\"Time\", axis=1) # cette colonne n'apporte rien à notre analyse \n",
    "df.head()\n",
    "  "
   ]
  },
  {
   "cell_type": "code",
   "execution_count": 0,
   "metadata": {
    "application/vnd.databricks.v1+cell": {
     "cellMetadata": {
      "byteLimit": 2048000,
      "rowLimit": 10000
     },
     "inputWidgets": {},
     "nuid": "7cb1a8ae-f3fa-4ea8-9599-3c698b171f85",
     "showTitle": false,
     "title": ""
    }
   },
   "outputs": [
    {
     "output_type": "stream",
     "name": "stdout",
     "output_type": "stream",
     "text": [
      "Out[5]: <AxesSubplot:xlabel='Class', ylabel='count'>"
     ]
    },
    {
     "output_type": "display_data",
     "data": {
      "image/png": "[encoded data removed]"
     },
     "metadata": {
      "application/vnd.databricks.v1+output": {
       "addedWidgets": {},
       "arguments": {},
       "data": "data:image/png;base64,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\n",
       "datasetInfos": [],
       "metadata": {},
       "removedWidgets": [],
       "type": "image"
      }
     },
     "output_type": "display_data"
    }
   ],
   "source": [
    "sns.countplot(x='Class',data=df)"
   ]
  },
  {
   "cell_type": "code",
   "execution_count": 0,
   "metadata": {
    "application/vnd.databricks.v1+cell": {
     "cellMetadata": {
      "byteLimit": 2048000,
      "rowLimit": 10000
     },
     "inputWidgets": {},
     "nuid": "c8826df7-e677-42d0-9265-e972c3070577",
     "showTitle": false,
     "title": ""
    }
   },
   "outputs": [],
   "source": [
    "normal = df[df.Class == 0].sample(frac=0.5,random_state=2020).reset_index(drop=True)\n",
    "anomaly = df[df.Class == 1]"
   ]
  },
  {
   "cell_type": "code",
   "execution_count": 0,
   "metadata": {
    "application/vnd.databricks.v1+cell": {
     "cellMetadata": {
      "byteLimit": 2048000,
      "rowLimit": 10000
     },
     "inputWidgets": {},
     "nuid": "22ce2fad-b96d-4fe6-ae8e-13e77062932b",
     "showTitle": false,
     "title": ""
    }
   },
   "outputs": [
    {
     "output_type": "stream",
     "name": "stdout",
     "output_type": "stream",
     "text": [
      "Normal: (142158, 30)\nAnomaly: (492, 30)\n"
     ]
    }
   ],
   "source": [
    "print(f\"Normal: {normal.shape}\")\n",
    "print(f\"Anomaly: {anomaly.shape}\")"
   ]
  },
  {
   "cell_type": "code",
   "execution_count": 0,
   "metadata": {
    "application/vnd.databricks.v1+cell": {
     "cellMetadata": {
      "byteLimit": 2048000,
      "rowLimit": 10000
     },
     "inputWidgets": {},
     "nuid": "5d8e4e74-4514-497c-92f5-00870f5c0d60",
     "showTitle": false,
     "title": ""
    }
   },
   "outputs": [],
   "source": [
    "normal_train, normal_test = train_test_split(normal,test_size = 0.2, random_state = 2020)\n",
    "anomaly_train, anomaly_test = train_test_split(anomaly, test_size = 0.2, random_state = 2020)\n",
    "normal_train, normal_validate = train_test_split(normal_train,test_size = 0.25, random_state = 2020)\n",
    "anomaly_train, anomaly_validate = train_test_split(anomaly_train, test_size = 0.25, random_state = 2020)"
   ]
  },
  {
   "cell_type": "code",
   "execution_count": 0,
   "metadata": {
    "application/vnd.databricks.v1+cell": {
     "cellMetadata": {
      "byteLimit": 2048000,
      "rowLimit": 10000
     },
     "inputWidgets": {},
     "nuid": "d8b829c4-0aaa-4731-b522-791c56f36b5d",
     "showTitle": false,
     "title": ""
    }
   },
   "outputs": [],
   "source": [
    "x_train = pd.concat((normal_train, anomaly_train))\n",
    "x_test = pd.concat((normal_test, anomaly_test))\n",
    "x_validate = pd.concat((normal_validate, anomaly_validate))"
   ]
  },
  {
   "cell_type": "code",
   "execution_count": 0,
   "metadata": {
    "application/vnd.databricks.v1+cell": {
     "cellMetadata": {
      "byteLimit": 2048000,
      "rowLimit": 10000
     },
     "inputWidgets": {},
     "nuid": "0f9154fc-e384-4c11-8664-d189b7dd90aa",
     "showTitle": false,
     "title": ""
    }
   },
   "outputs": [],
   "source": [
    "y_train = np.array(x_train[\"Class\"])\n",
    "y_test = np.array(x_test[\"Class\"])\n",
    "y_validate = np.array(x_validate[\"Class\"])"
   ]
  },
  {
   "cell_type": "code",
   "execution_count": 0,
   "metadata": {
    "application/vnd.databricks.v1+cell": {
     "cellMetadata": {
      "byteLimit": 2048000,
      "rowLimit": 10000
     },
     "inputWidgets": {},
     "nuid": "218a641e-5e9c-4204-8bc5-6bb17b3ecf04",
     "showTitle": false,
     "title": ""
    }
   },
   "outputs": [],
   "source": [
    "x_train = x_train.drop(\"Class\", axis=1)\n",
    "x_test = x_test.drop(\"Class\", axis=1)\n",
    "x_validate = x_validate.drop(\"Class\", axis=1)"
   ]
  },
  {
   "cell_type": "code",
   "execution_count": 0,
   "metadata": {
    "application/vnd.databricks.v1+cell": {
     "cellMetadata": {
      "byteLimit": 2048000,
      "rowLimit": 10000
     },
     "inputWidgets": {},
     "nuid": "fce1f6fa-3643-4eb8-a6bf-8ad149712741",
     "showTitle": false,
     "title": ""
    }
   },
   "outputs": [
    {
     "output_type": "stream",
     "name": "stdout",
     "output_type": "stream",
     "text": [
      "Training sets:\nx_train: (85588, 29) \ny_train:(85588,)\n\nTesting sets:\nx_test: (28531, 29) \ny_test:(28531,)\n\nValidation sets:\nx_validate: (28531, 29) \ny_validate: (28531,)\n"
     ]
    }
   ],
   "source": [
    "print(\"Training sets:\\nx_train: {} \\ny_train:{}\".format(x_train.shape, y_train.shape))\n",
    "print(\"\\nTesting sets:\\nx_test: {} \\ny_test:{}\".format(x_test.shape, y_test.shape))\n",
    "print(\"\\nValidation sets:\\nx_validate: {} \\ny_validate: {}\".format(x_validate.shape, y_validate.shape))"
   ]
  },
  {
   "cell_type": "code",
   "execution_count": 0,
   "metadata": {
    "application/vnd.databricks.v1+cell": {
     "cellMetadata": {
      "byteLimit": 2048000,
      "rowLimit": 10000
     },
     "inputWidgets": {},
     "nuid": "f9673742-2221-44a7-87c0-36f5a0d330d3",
     "showTitle": false,
     "title": ""
    }
   },
   "outputs": [
    {
     "output_type": "stream",
     "name": "stdout",
     "output_type": "stream",
     "text": [
      "Out[27]: StandardScaler()"
     ]
    }
   ],
   "source": [
    "scaler = StandardScaler()\n",
    "scaler.fit(pd.concat((normal, anomaly)).drop(\"Class\", axis=1))"
   ]
  },
  {
   "cell_type": "code",
   "execution_count": 0,
   "metadata": {
    "application/vnd.databricks.v1+cell": {
     "cellMetadata": {
      "byteLimit": 2048000,
      "rowLimit": 10000
     },
     "inputWidgets": {},
     "nuid": "c722fc83-a64a-4356-b12f-7fd98db8b79d",
     "showTitle": false,
     "title": ""
    }
   },
   "outputs": [],
   "source": [
    "x_train = scaler.transform(x_train)\n",
    "x_test = scaler.transform(x_test)\n",
    "x_validate = scaler.transform(x_validate)"
   ]
  },
  {
   "cell_type": "code",
   "execution_count": 0,
   "metadata": {
    "application/vnd.databricks.v1+cell": {
     "cellMetadata": {
      "byteLimit": 2048000,
      "rowLimit": 10000
     },
     "inputWidgets": {},
     "nuid": "bfc4d63f-a9c7-4239-8d2c-2819312632ec",
     "showTitle": false,
     "title": ""
    }
   },
   "outputs": [],
   "source": [
    "def train(sk_model, x_train, y_train):\n",
    "    sk_model = sk_model.fit(x_train, y_train)\n",
    "    train_acc = sk_model.score(x_train, y_train)\n",
    "    mlflow.log_metric(\"train_acc\", train_acc)\n",
    "    print(f\"Train Accuracy: {train_acc:.3%}\")"
   ]
  },
  {
   "cell_type": "code",
   "execution_count": 0,
   "metadata": {
    "application/vnd.databricks.v1+cell": {
     "cellMetadata": {
      "byteLimit": 2048000,
      "rowLimit": 10000
     },
     "inputWidgets": {},
     "nuid": "cabf8c63-9946-40f5-a966-3bfa0b14bc3e",
     "showTitle": false,
     "title": ""
    }
   },
   "outputs": [],
   "source": [
    "def evaluate(sk_model, x_test, y_test):\n",
    "    eval_acc = sk_model.score(x_test, y_test)\n",
    "    preds = sk_model.predict(x_test)\n",
    "    auc_score = roc_auc_score(y_test, preds)\n",
    "    mlflow.log_metric(\"eval_acc\", eval_acc) # nous avons fait la même chose pour l'accuracy de test (evaluation)\n",
    "    mlflow.log_metric(\"auc_score\", auc_score)# aussi pour l'AUC score \n",
    "    print(f\"Auc Score: {auc_score:.3%}\")\n",
    "    print(f\"Eval Accuracy: {eval_acc:.3%}\")\n",
    "    roc_plot = plot_roc_curve(sk_model, x_test, y_test,name='Scikit-learn ROC Curve')\n",
    "    plt.savefig(\"sklearn_roc_plot.png\")\n",
    "    plt.show()\n",
    "    plt.clf()\n",
    "    conf_matrix = confusion_matrix(y_test, preds)\n",
    "    ax = sns.heatmap(conf_matrix, annot=True,fmt='g')\n",
    "    ax.invert_xaxis()\n",
    "    ax.invert_yaxis()\n",
    "    plt.ylabel('Actual')\n",
    "    plt.xlabel('Predicted')\n",
    "    plt.title(\"Confusion Matrix\")\n",
    "    plt.savefig(\"sklearn_conf_matrix.png\")\n",
    "    # nous avons dit à MLflow de sauvegarder ces deux figure afin de les consulter à chaque \n",
    "    # exécution d'une façon organisée comme nous allons le voir plus loin dans cet atelier  \n",
    "    mlflow.log_artifact(\"sklearn_roc_plot.png\")\n",
    "    mlflow.log_artifact(\"sklearn_conf_matrix.png\")"
   ]
  },
  {
   "cell_type": "code",
   "execution_count": 0,
   "metadata": {
    "application/vnd.databricks.v1+cell": {
     "cellMetadata": {
      "byteLimit": 2048000,
      "rowLimit": 10000
     },
     "inputWidgets": {},
     "nuid": "7dc551ab-f1ba-4b81-9173-580e0d155318",
     "showTitle": false,
     "title": ""
    }
   },
   "outputs": [
    {
     "output_type": "stream",
     "name": "stdout",
     "output_type": "stream",
     "text": [
      "Wrote 97 bytes.\nOut[31]: True"
     ]
    }
   ],
   "source": [
    "#to configure your DataBricks CLI\n",
    "token = dbutils.notebook.entry_point.getDbutils().notebook().getContext().apiToken().get()\n",
    "dbutils.fs.put(\"file:///root/.databrickscfg\",\"[DEFAULT]\\nhost=https://community.cloud.databricks.com\\ntoken =\"+token,overwrite=True)"
   ]
  },
  {
   "cell_type": "code",
   "execution_count": 0,
   "metadata": {
    "application/vnd.databricks.v1+cell": {
     "cellMetadata": {
      "byteLimit": 2048000,
      "rowLimit": 10000
     },
     "inputWidgets": {},
     "nuid": "ad5ef2cc-cf73-40fc-98ff-a9b4b2750298",
     "showTitle": false,
     "title": ""
    }
   },
   "outputs": [
    {
     "output_type": "stream",
     "name": "stderr",
     "output_type": "stream",
     "text": [
      "/databricks/python/lib/python3.9/site-packages/sklearn/utils/optimize.py:210: ConvergenceWarning: newton-cg failed to converge. Increase the number of iterations.\n  warnings.warn(\n"
     ]
    },
    {
     "output_type": "stream",
     "name": "stdout",
     "output_type": "stream",
     "text": [
      "Train Accuracy: 99.893%\nAuc Score: 85.341%\nEval Accuracy: 99.874%\n"
     ]
    },
    {
     "output_type": "stream",
     "name": "stderr",
     "output_type": "stream",
     "text": [
      "/databricks/python/lib/python3.9/site-packages/sklearn/utils/deprecation.py:87: FutureWarning: Function plot_roc_curve is deprecated; Function :func:`plot_roc_curve` is deprecated in 1.0 and will be removed in 1.2. Use one of the class methods: :meth:`sklearn.metric.RocCurveDisplay.from_predictions` or :meth:`sklearn.metric.RocCurveDisplay.from_estimator`.\n  warnings.warn(msg, category=FutureWarning)\n"
     ]
    },
    {
     "output_type": "display_data",
     "data": {
      "image/png": "[encoded data removed]"
     },
     "metadata": {
      "application/vnd.databricks.v1+output": {
       "addedWidgets": {},
       "arguments": {},
       "data": "data:image/png;base64,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\n",
       "datasetInfos": [],
       "metadata": {},
       "removedWidgets": [],
       "type": "image"
      }
     },
     "output_type": "display_data"
    },
    {
     "output_type": "stream",
     "name": "stdout",
     "output_type": "stream",
     "text": [
      "Model run:  1966e6bab73844bab5e03f7c2d111fca\n"
     ]
    },
    {
     "output_type": "display_data",
     "data": {
      "image/png": "[encoded data removed]"
     },
     "metadata": {
      "application/vnd.databricks.v1+output": {
       "addedWidgets": {},
       "arguments": {},
       "data": "data:image/png;base64,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\n",
       "datasetInfos": [],
       "metadata": {},
       "removedWidgets": [],
       "type": "image"
      }
     },
     "output_type": "display_data"
    }
   ],
   "source": [
    "sk_model = LogisticRegression(random_state=None,max_iter=10, solver='newton-cg')\n",
    "mlflow.set_experiment(\"/Users/oumaima.chqaf@um6p.ma/scikit_learn_experiment1\")\n",
    "with mlflow.start_run():\n",
    "    train(sk_model, x_train, y_train)\n",
    "    evaluate(sk_model, x_test, y_test)\n",
    "    mlflow.sklearn.log_model(sk_model, \"log_reg_model\")\n",
    "    print(\"Model run: \", mlflow.active_run().info.run_uuid)\n",
    "mlflow.end_run()"
   ]
  },
  {
   "cell_type": "code",
   "execution_count": 0,
   "metadata": {
    "application/vnd.databricks.v1+cell": {
     "cellMetadata": {
      "byteLimit": 2048000,
      "rowLimit": 10000
     },
     "inputWidgets": {},
     "nuid": "3413c518-1432-486b-89d1-31de2aadbbf5",
     "showTitle": false,
     "title": ""
    }
   },
   "outputs": [
    {
     "output_type": "display_data",
     "data": {
      "text/html": [
       "<style scoped>\n",
       "  .ansiout {\n",
       "    display: block;\n",
       "    unicode-bidi: embed;\n",
       "    white-space: pre-wrap;\n",
       "    word-wrap: break-word;\n",
       "    word-break: break-all;\n",
       "    font-family: \"Menlo\", \"Monaco\", \"Consolas\", \"Ubuntu Mono\", \"Source Code Pro\", monospace;\n",
       "    font-size: 13px;\n",
       "    color: #555;\n",
       "    margin-left: 4px;\n",
       "    line-height: 19px;\n",
       "  }\n",
       "</style>"
      ]
     },
     "metadata": {
      "application/vnd.databricks.v1+output": {
       "arguments": {},
       "data": "",
       "errorSummary": "Cancelled",
       "errorTraceType": "html",
       "metadata": {},
       "type": "ipynbError"
      }
     },
     "output_type": "display_data"
    }
   ],
   "source": [
    "\n",
    "# define evaluation\n",
    "\n",
    "# define search space\n",
    "from sklearn.model_selection import RepeatedStratifiedKFold\n",
    "from sklearn.model_selection import RandomizedSearchCV\n",
    "from scipy.stats import loguniform\n",
    "# summarize result\n",
    "#print('Best Score: %s' % result.best_score_)\n",
    "#print('Best Hyperparameters: %s' % result.best_params_)\n",
    "\n",
    "model = LogisticRegression()\n",
    "cv = RepeatedStratifiedKFold(n_splits=10, n_repeats=3, random_state=1)\n",
    "space = dict()\n",
    "space['solver'] = ['newton-cg', 'lbfgs', 'liblinear']\n",
    "space['penalty'] = ['none', 'l1', 'l2', 'elasticnet']\n",
    "space['C'] = loguniform(1e-5, 100)\n",
    "mlflow.set_experiment(\"/Users/oumaima.chqaf@um6p.ma/scikit_learn_experiment1\")\n",
    "with mlflow.start_run():\n",
    "    search = RandomizedSearchCV(model, space, n_iter=500, scoring='accuracy', n_jobs=-1, cv=cv, random_state=1)\n",
    "    sk_model = search.fit(x_train, y_train)\n",
    "    train(sk_model, x_train, y_train)\n",
    "    evaluate(sk_model, x_test, y_test)\n",
    "    mlflow.sklearn.log_model(sk_model, \"log_reg_model\")\n",
    "    print(\"Model run: \", mlflow.active_run().info.run_uuid)\n",
    "mlflow.end_run()"
   ]
  },
  {
   "cell_type": "code",
   "execution_count": 0,
   "metadata": {
    "application/vnd.databricks.v1+cell": {
     "cellMetadata": {
      "byteLimit": 2048000,
      "rowLimit": 10000
     },
     "inputWidgets": {},
     "nuid": "484c7e86-82b2-4fea-aacf-15612b24dff7",
     "showTitle": false,
     "title": ""
    }
   },
   "outputs": [
    {
     "output_type": "display_data",
     "data": {
      "text/html": [
       "<style scoped>\n",
       "  .table-result-container {\n",
       "    max-height: 300px;\n",
       "    overflow: auto;\n",
       "  }\n",
       "  table, th, td {\n",
       "    border: 1px solid black;\n",
       "    border-collapse: collapse;\n",
       "  }\n",
       "  th, td {\n",
       "    padding: 5px;\n",
       "  }\n",
       "  th {\n",
       "    text-align: left;\n",
       "  }\n",
       "</style><div class='table-result-container'><table class='table-result'><thead style='background-color: white'><tr><th>run_id</th><th>experiment_id</th><th>status</th><th>artifact_uri</th><th>start_time</th><th>end_time</th><th>metrics.auc_score</th><th>metrics.eval_acc</th><th>metrics.train_acc</th><th>tags.mlflow.databricks.cluster.id</th><th>tags.mlflow.databricks.notebookRevisionID</th><th>tags.mlflow.user</th><th>tags.mlflow.source.name</th><th>tags.mlflow.databricks.notebookPath</th><th>tags.mlflow.runName</th><th>tags.mlflow.databricks.notebookID</th><th>tags.mlflow.source.type</th><th>tags.mlflow.databricks.cluster.info</th><th>tags.mlflow.databricks.notebook.commandID</th><th>tags.mlflow.databricks.webappURL</th><th>tags.mlflow.databricks.cluster.libraries</th><th>tags.mlflow.log-model.history</th></tr></thead><tbody><tr><td>a9975632cab048d892fdc4a94d1066bc</td><td>2852336269426790</td><td>FAILED</td><td>dbfs:/databricks/mlflow-tracking/2852336269426790/a9975632cab048d892fdc4a94d1066bc/artifacts</td><td>2024-01-07T22:58:24.041+0000</td><td>2024-01-07T23:04:24.353+0000</td><td>null</td><td>null</td><td>null</td><td>0107-223244-y18gmk9k</td><td>1704668664914</td><td>oumaima.chqaf@um6p.ma</td><td>/Users/oumaima.chqaf@um6p.ma/5. MLflow-DataBricks2</td><td>/Users/oumaima.chqaf@um6p.ma/5. MLflow-DataBricks2</td><td>amazing-fox-524</td><td>2852336269426764</td><td>NOTEBOOK</td><td>{\"cluster_name\":\"My Cluster\",\"spark_version\":\"12.2.x-scala2.12\",\"node_type_id\":\"dev-tier-node\",\"driver_node_type_id\":\"dev-tier-node\",\"autotermination_minutes\":120,\"disk_spec\":{\"disk_count\":0},\"num_workers\":0}</td><td>7465890246800546212_5452571762605717009_9c29fb0c8d1348cb8b8f51f173ed3205</td><td>https://community.cloud.databricks.com</td><td>{\"installable\":[],\"redacted\":[]}</td><td>null</td></tr><tr><td>1966e6bab73844bab5e03f7c2d111fca</td><td>2852336269426790</td><td>FINISHED</td><td>dbfs:/databricks/mlflow-tracking/2852336269426790/1966e6bab73844bab5e03f7c2d111fca/artifacts</td><td>2024-01-07T22:57:18.809+0000</td><td>2024-01-07T22:57:26.198+0000</td><td>0.8534122528037835</td><td>0.9987382145736217</td><td>0.9989250829555545</td><td>0107-223244-y18gmk9k</td><td>1704668246592</td><td>oumaima.chqaf@um6p.ma</td><td>/Users/oumaima.chqaf@um6p.ma/5. MLflow-DataBricks2</td><td>/Users/oumaima.chqaf@um6p.ma/5. MLflow-DataBricks2</td><td>nimble-tern-408</td><td>2852336269426764</td><td>NOTEBOOK</td><td>{\"cluster_name\":\"My Cluster\",\"spark_version\":\"12.2.x-scala2.12\",\"node_type_id\":\"dev-tier-node\",\"driver_node_type_id\":\"dev-tier-node\",\"autotermination_minutes\":120,\"disk_spec\":{\"disk_count\":0},\"num_workers\":0}</td><td>7465890246800546212_5770985857080893276_7919c6ee9d00419c9b8640604e2b4a45</td><td>https://community.cloud.databricks.com</td><td>{\"installable\":[],\"redacted\":[]}</td><td>[{\"artifact_path\":\"log_reg_model\",\"flavors\":{\"python_function\":{\"model_path\":\"model.pkl\",\"loader_module\":\"mlflow.sklearn\",\"python_version\":\"3.9.5\",\"env\":\"conda.yaml\"},\"sklearn\":{\"pickled_model\":\"model.pkl\",\"sklearn_version\":\"1.0.2\",\"serialization_format\":\"cloudpickle\"}},\"run_id\":\"1966e6bab73844bab5e03f7c2d111fca\",\"utc_time_created\":\"2024-01-07 22:57:22.692296\",\"databricks_runtime\":\"12.2.x-scala2.12\"}]</td></tr><tr><td>4000744989bb49d68e8e2e51d4f97b15</td><td>2852336269426790</td><td>FAILED</td><td>dbfs:/databricks/mlflow-tracking/2852336269426790/4000744989bb49d68e8e2e51d4f97b15/artifacts</td><td>2024-01-07T22:56:30.241+0000</td><td>2024-01-07T22:56:30.831+0000</td><td>null</td><td>null</td><td>null</td><td>0107-223244-y18gmk9k</td><td>1704668191308</td><td>oumaima.chqaf@um6p.ma</td><td>/Users/oumaima.chqaf@um6p.ma/5. MLflow-DataBricks2</td><td>/Users/oumaima.chqaf@um6p.ma/5. MLflow-DataBricks2</td><td>ambitious-stork-826</td><td>2852336269426764</td><td>NOTEBOOK</td><td>{\"cluster_name\":\"My Cluster\",\"spark_version\":\"12.2.x-scala2.12\",\"node_type_id\":\"dev-tier-node\",\"driver_node_type_id\":\"dev-tier-node\",\"autotermination_minutes\":120,\"disk_spec\":{\"disk_count\":0},\"num_workers\":0}</td><td>7465890246800546212_5747958926536965752_3fd587973f6b4b2e851ab95dcb3f2422</td><td>https://community.cloud.databricks.com</td><td>{\"installable\":[],\"redacted\":[]}</td><td>null</td></tr></tbody></table></div>"
      ]
     },
     "metadata": {
      "application/vnd.databricks.v1+output": {
       "addedWidgets": {},
       "aggData": [],
       "aggError": "",
       "aggOverflow": false,
       "aggSchema": [],
       "aggSeriesLimitReached": false,
       "aggType": "",
       "arguments": {},
       "columnCustomDisplayInfos": {},
       "data": [
        [
         "a9975632cab048d892fdc4a94d1066bc",
         "2852336269426790",
         "FAILED",
         "dbfs:/databricks/mlflow-tracking/2852336269426790/a9975632cab048d892fdc4a94d1066bc/artifacts",
         "2024-01-07T22:58:24.041+0000",
         "2024-01-07T23:04:24.353+0000",
         null,
         null,
         null,
         "0107-223244-y18gmk9k",
         "1704668664914",
         "oumaima.chqaf@um6p.ma",
         "/Users/oumaima.chqaf@um6p.ma/5. MLflow-DataBricks2",
         "/Users/oumaima.chqaf@um6p.ma/5. MLflow-DataBricks2",
         "amazing-fox-524",
         "2852336269426764",
         "NOTEBOOK",
         "{\"cluster_name\":\"My Cluster\",\"spark_version\":\"12.2.x-scala2.12\",\"node_type_id\":\"dev-tier-node\",\"driver_node_type_id\":\"dev-tier-node\",\"autotermination_minutes\":120,\"disk_spec\":{\"disk_count\":0},\"num_workers\":0}",
         "7465890246800546212_5452571762605717009_9c29fb0c8d1348cb8b8f51f173ed3205",
         "https://community.cloud.databricks.com",
         "{\"installable\":[],\"redacted\":[]}",
         null
        ],
        [
         "1966e6bab73844bab5e03f7c2d111fca",
         "2852336269426790",
         "FINISHED",
         "dbfs:/databricks/mlflow-tracking/2852336269426790/1966e6bab73844bab5e03f7c2d111fca/artifacts",
         "2024-01-07T22:57:18.809+0000",
         "2024-01-07T22:57:26.198+0000",
         0.8534122528037835,
         0.9987382145736217,
         0.9989250829555545,
         "0107-223244-y18gmk9k",
         "1704668246592",
         "oumaima.chqaf@um6p.ma",
         "/Users/oumaima.chqaf@um6p.ma/5. MLflow-DataBricks2",
         "/Users/oumaima.chqaf@um6p.ma/5. MLflow-DataBricks2",
         "nimble-tern-408",
         "2852336269426764",
         "NOTEBOOK",
         "{\"cluster_name\":\"My Cluster\",\"spark_version\":\"12.2.x-scala2.12\",\"node_type_id\":\"dev-tier-node\",\"driver_node_type_id\":\"dev-tier-node\",\"autotermination_minutes\":120,\"disk_spec\":{\"disk_count\":0},\"num_workers\":0}",
         "7465890246800546212_5770985857080893276_7919c6ee9d00419c9b8640604e2b4a45",
         "https://community.cloud.databricks.com",
         "{\"installable\":[],\"redacted\":[]}",
         "[{\"artifact_path\":\"log_reg_model\",\"flavors\":{\"python_function\":{\"model_path\":\"model.pkl\",\"loader_module\":\"mlflow.sklearn\",\"python_version\":\"3.9.5\",\"env\":\"conda.yaml\"},\"sklearn\":{\"pickled_model\":\"model.pkl\",\"sklearn_version\":\"1.0.2\",\"serialization_format\":\"cloudpickle\"}},\"run_id\":\"1966e6bab73844bab5e03f7c2d111fca\",\"utc_time_created\":\"2024-01-07 22:57:22.692296\",\"databricks_runtime\":\"12.2.x-scala2.12\"}]"
        ],
        [
         "4000744989bb49d68e8e2e51d4f97b15",
         "2852336269426790",
         "FAILED",
         "dbfs:/databricks/mlflow-tracking/2852336269426790/4000744989bb49d68e8e2e51d4f97b15/artifacts",
         "2024-01-07T22:56:30.241+0000",
         "2024-01-07T22:56:30.831+0000",
         null,
         null,
         null,
         "0107-223244-y18gmk9k",
         "1704668191308",
         "oumaima.chqaf@um6p.ma",
         "/Users/oumaima.chqaf@um6p.ma/5. MLflow-DataBricks2",
         "/Users/oumaima.chqaf@um6p.ma/5. MLflow-DataBricks2",
         "ambitious-stork-826",
         "2852336269426764",
         "NOTEBOOK",
         "{\"cluster_name\":\"My Cluster\",\"spark_version\":\"12.2.x-scala2.12\",\"node_type_id\":\"dev-tier-node\",\"driver_node_type_id\":\"dev-tier-node\",\"autotermination_minutes\":120,\"disk_spec\":{\"disk_count\":0},\"num_workers\":0}",
         "7465890246800546212_5747958926536965752_3fd587973f6b4b2e851ab95dcb3f2422",
         "https://community.cloud.databricks.com",
         "{\"installable\":[],\"redacted\":[]}",
         null
        ]
       ],
       "datasetInfos": [],
       "dbfsResultPath": null,
       "isJsonSchema": true,
       "metadata": {},
       "overflow": false,
       "plotOptions": {
        "customPlotOptions": {},
        "displayType": "table",
        "pivotAggregation": null,
        "pivotColumns": null,
        "xColumns": null,
        "yColumns": null
       },
       "removedWidgets": [],
       "schema": [
        {
         "metadata": "{}",
         "name": "run_id",
         "type": "\"string\""
        },
        {
         "metadata": "{}",
         "name": "experiment_id",
         "type": "\"string\""
        },
        {
         "metadata": "{}",
         "name": "status",
         "type": "\"string\""
        },
        {
         "metadata": "{}",
         "name": "artifact_uri",
         "type": "\"string\""
        },
        {
         "metadata": "{}",
         "name": "start_time",
         "type": "\"timestamp\""
        },
        {
         "metadata": "{}",
         "name": "end_time",
         "type": "\"timestamp\""
        },
        {
         "metadata": "{}",
         "name": "metrics.auc_score",
         "type": "\"double\""
        },
        {
         "metadata": "{}",
         "name": "metrics.eval_acc",
         "type": "\"double\""
        },
        {
         "metadata": "{}",
         "name": "metrics.train_acc",
         "type": "\"double\""
        },
        {
         "metadata": "{}",
         "name": "tags.mlflow.databricks.cluster.id",
         "type": "\"string\""
        },
        {
         "metadata": "{}",
         "name": "tags.mlflow.databricks.notebookRevisionID",
         "type": "\"string\""
        },
        {
         "metadata": "{}",
         "name": "tags.mlflow.user",
         "type": "\"string\""
        },
        {
         "metadata": "{}",
         "name": "tags.mlflow.source.name",
         "type": "\"string\""
        },
        {
         "metadata": "{}",
         "name": "tags.mlflow.databricks.notebookPath",
         "type": "\"string\""
        },
        {
         "metadata": "{}",
         "name": "tags.mlflow.runName",
         "type": "\"string\""
        },
        {
         "metadata": "{}",
         "name": "tags.mlflow.databricks.notebookID",
         "type": "\"string\""
        },
        {
         "metadata": "{}",
         "name": "tags.mlflow.source.type",
         "type": "\"string\""
        },
        {
         "metadata": "{}",
         "name": "tags.mlflow.databricks.cluster.info",
         "type": "\"string\""
        },
        {
         "metadata": "{}",
         "name": "tags.mlflow.databricks.notebook.commandID",
         "type": "\"string\""
        },
        {
         "metadata": "{}",
         "name": "tags.mlflow.databricks.webappURL",
         "type": "\"string\""
        },
        {
         "metadata": "{}",
         "name": "tags.mlflow.databricks.cluster.libraries",
         "type": "\"string\""
        },
        {
         "metadata": "{}",
         "name": "tags.mlflow.log-model.history",
         "type": "\"string\""
        }
       ],
       "type": "table"
      }
     },
     "output_type": "display_data"
    }
   ],
   "source": [
    "all_runs = mlflow.search_runs(max_results=10)  # Note : This is pandas dataframe\n",
    "display(all_runs)"
   ]
  },
  {
   "cell_type": "markdown",
   "metadata": {
    "application/vnd.databricks.v1+cell": {
     "cellMetadata": {
      "byteLimit": 2048000,
      "rowLimit": 10000
     },
     "inputWidgets": {},
     "nuid": "52230943-0dd9-4d07-b541-d5fcd525da8f",
     "showTitle": false,
     "title": ""
    }
   },
   "source": [
    "TAF: \n",
    "\n",
    "1. réexécutez la cellule 18 en utilisant d'autres modèle ML de SKlearn \n",
    "2. comparez vos résultats en utilisant l'outil de comparaison de MLFlow"
   ]
  },
  {
   "cell_type": "code",
   "execution_count": 0,
   "metadata": {
    "application/vnd.databricks.v1+cell": {
     "cellMetadata": {
      "byteLimit": 2048000,
      "rowLimit": 10000
     },
     "inputWidgets": {},
     "nuid": "557e4e7f-be3a-41d1-ab3b-7b8c1d8f6983",
     "showTitle": false,
     "title": ""
    }
   },
   "outputs": [
    {
     "output_type": "stream",
     "name": "stdout",
     "output_type": "stream",
     "text": [
      "Train Accuracy: 99.943%\nAuc Score: 83.833%\nEval Accuracy: 99.877%\n"
     ]
    },
    {
     "output_type": "stream",
     "name": "stderr",
     "output_type": "stream",
     "text": [
      "/databricks/python/lib/python3.9/site-packages/sklearn/utils/deprecation.py:87: FutureWarning: Function plot_roc_curve is deprecated; Function :func:`plot_roc_curve` is deprecated in 1.0 and will be removed in 1.2. Use one of the class methods: :meth:`sklearn.metric.RocCurveDisplay.from_predictions` or :meth:`sklearn.metric.RocCurveDisplay.from_estimator`.\n  warnings.warn(msg, category=FutureWarning)\n"
     ]
    },
    {
     "output_type": "display_data",
     "data": {
      "image/png": "[encoded data removed]"
     },
     "metadata": {
      "application/vnd.databricks.v1+output": {
       "addedWidgets": {},
       "arguments": {},
       "data": "data:image/png;base64,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\n",
       "datasetInfos": [],
       "metadata": {},
       "removedWidgets": [],
       "type": "image"
      }
     },
     "output_type": "display_data"
    },
    {
     "output_type": "stream",
     "name": "stdout",
     "output_type": "stream",
     "text": [
      "Model run:  985f5df0c1f8417795ea7003e49ae8ed\n"
     ]
    },
    {
     "output_type": "display_data",
     "data": {
      "image/png": "[encoded data removed]"
     },
     "metadata": {
      "application/vnd.databricks.v1+output": {
       "addedWidgets": {},
       "arguments": {},
       "data": "data:image/png;base64,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\n",
       "datasetInfos": [],
       "metadata": {},
       "removedWidgets": [],
       "type": "image"
      }
     },
     "output_type": "display_data"
    }
   ],
   "source": [
    "from sklearn.svm import SVC\n",
    "svm_model = SVC(random_state=None)\n",
    "\n",
    "# Set up your MLflow experiment\n",
    "mlflow.set_experiment(\"/Users/oumaima.chqaf@um6p.ma/scikit_learn_experiment1\")\n",
    "\n",
    "# Start an MLflow run\n",
    "with mlflow.start_run():\n",
    "    train(svm_model, x_train, y_train)\n",
    "    evaluate(svm_model, x_test, y_test)\n",
    "    print(\"Model run: \", mlflow.active_run().info.run_uuid)\n",
    "\n",
    "mlflow.end_run()"
   ]
  },
  {
   "cell_type": "code",
   "execution_count": 0,
   "metadata": {
    "application/vnd.databricks.v1+cell": {
     "cellMetadata": {
      "byteLimit": 2048000,
      "rowLimit": 10000
     },
     "inputWidgets": {},
     "nuid": "363c0b57-e137-439a-98d9-897fd5aae01a",
     "showTitle": false,
     "title": ""
    }
   },
   "outputs": [
    {
     "output_type": "stream",
     "name": "stdout",
     "output_type": "stream",
     "text": [
      "Train Accuracy: 100.000%\nAuc Score: 89.383%\nEval Accuracy: 99.905%\n"
     ]
    },
    {
     "output_type": "stream",
     "name": "stderr",
     "output_type": "stream",
     "text": [
      "/databricks/python/lib/python3.9/site-packages/sklearn/utils/deprecation.py:87: FutureWarning: Function plot_roc_curve is deprecated; Function :func:`plot_roc_curve` is deprecated in 1.0 and will be removed in 1.2. Use one of the class methods: :meth:`sklearn.metric.RocCurveDisplay.from_predictions` or :meth:`sklearn.metric.RocCurveDisplay.from_estimator`.\n  warnings.warn(msg, category=FutureWarning)\n"
     ]
    },
    {
     "output_type": "display_data",
     "data": {
      "image/png": "[encoded data removed]"
     },
     "metadata": {
      "application/vnd.databricks.v1+output": {
       "addedWidgets": {},
       "arguments": {},
       "data": "data:image/png;base64,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\n",
       "datasetInfos": [],
       "metadata": {},
       "removedWidgets": [],
       "type": "image"
      }
     },
     "output_type": "display_data"
    },
    {
     "output_type": "stream",
     "name": "stdout",
     "output_type": "stream",
     "text": [
      "Model run:  4c100cdf337b43308ab577379bfa8fbf\n"
     ]
    },
    {
     "output_type": "display_data",
     "data": {
      "image/png": "[encoded data removed]"
     },
     "metadata": {
      "application/vnd.databricks.v1+output": {
       "addedWidgets": {},
       "arguments": {},
       "data": "data:image/png;base64,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\n",
       "datasetInfos": [],
       "metadata": {},
       "removedWidgets": [],
       "type": "image"
      }
     },
     "output_type": "display_data"
    }
   ],
   "source": [
    "from sklearn.ensemble import RandomForestClassifier\n",
    "\n",
    "rf_model = RandomForestClassifier(random_state=None)\n",
    "\n",
    "mlflow.set_experiment(\"/Users/oumaima.chqaf@um6p.ma/scikit_learn_experiment1\")\n",
    "with mlflow.start_run():\n",
    "    train(rf_model, x_train, y_train)\n",
    "    evaluate(rf_model, x_test, y_test)\n",
    "    mlflow.sklearn.log_model(rf_model, \"random_forest_model\")\n",
    "    print(\"Model run: \", mlflow.active_run().info.run_uuid)\n",
    "\n",
    "# End the MLflow run\n",
    "mlflow.end_run()"
   ]
  },
  {
   "cell_type": "code",
   "execution_count": 0,
   "metadata": {
    "application/vnd.databricks.v1+cell": {
     "cellMetadata": {
      "byteLimit": 2048000,
      "rowLimit": 10000
     },
     "inputWidgets": {},
     "nuid": "ec66a17d-ea34-4699-9241-ccaccedc5114",
     "showTitle": false,
     "title": ""
    }
   },
   "outputs": [],
   "source": []
  }
 ],
 "metadata": {
  "application/vnd.databricks.v1+notebook": {
   "dashboards": [],
   "language": "python",
   "notebookMetadata": {
    "pythonIndentUnit": 2
   },
   "notebookName": "5. MLflow-DataBricks2",
   "widgets": {}
  },
  "kernelspec": {
   "display_name": "Python 3 (ipykernel)",
   "language": "python",
   "name": "python3"
  },
  "language_info": {
   "codemirror_mode": {
    "name": "ipython",
    "version": 3
   },
   "file_extension": ".py",
   "mimetype": "text/x-python",
   "name": "python",
   "nbconvert_exporter": "python",
   "pygments_lexer": "ipython3",
   "version": "3.9.12"
  }
 },
 "nbformat": 4,
 "nbformat_minor": 0
}
